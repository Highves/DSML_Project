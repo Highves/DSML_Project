{
 "cells": [
  {
   "cell_type": "code",
   "execution_count": null,
   "metadata": {},
   "outputs": [],
   "source": [
    "import sys\n",
    "import subprocess"
   ]
  },
  {
   "cell_type": "raw",
   "metadata": {},
   "source": [
    "Import modules needed to download and install Biopython using script"
   ]
  },
  {
   "cell_type": "code",
   "execution_count": null,
   "metadata": {},
   "outputs": [],
   "source": [
    "subprocess.check_call([sys.executable, '-m', 'pip', 'install', 'Biopython'])"
   ]
  },
  {
   "cell_type": "raw",
   "metadata": {},
   "source": [
    "Installs Biopython when you run the script. You can also install Biopython as a package in the environment. In Anaconda Navigator, go to \"Environments\" and select the appropriate environment (base or your own) and click \"not installed\". Scroll down to biopython click the box and then install."
   ]
  },
  {
   "cell_type": "code",
   "execution_count": null,
   "metadata": {},
   "outputs": [],
   "source": [
    "from Bio import SeqIO\n",
    "from Bio import Entrez"
   ]
  },
  {
   "cell_type": "raw",
   "metadata": {},
   "source": [
    "Imports the modules SeqIO and Entrez in order to read and download GenBank files, respectively.\n",
    "SeqIO can be used to input and output assorted sequence file formats."
   ]
  },
  {
   "cell_type": "code",
   "execution_count": null,
   "metadata": {},
   "outputs": [],
   "source": [
    "your_genome = Entrez.efetch(db=\"nucleotide\", id=\"AM747721.1\", idtype=\"acc\", rettype=\"gb\", retmode=\"text\")\n",
    "genome = SeqIO.parse(your_genome, \"gb\")\n",
    "SeqIO.write(genome, \"your_genome.gbk\", \"gb\")\n",
    "genome_gbk = \"your_genome.gbk\""
   ]
  },
  {
   "cell_type": "raw",
   "metadata": {},
   "source": [
    "Here you download the desired GenBank file, in this case an annotated genome, using a given GenBank accession number and save it in the current working directory as \"your_genome.gbk\"."
   ]
  },
  {
   "cell_type": "code",
   "execution_count": null,
   "metadata": {},
   "outputs": [],
   "source": [
    "faa_filename = \"your_genome_in_ff.faa\"\n",
    "input_handle  = open(genome_gbk, \"r\")\n",
    "output_handle = open(faa_filename, \"w\")\n",
    "\n",
    "for seq_record in SeqIO.parse(input_handle, \"genbank\") :\n",
    "    for seq_feature in seq_record.features :\n",
    "        try:\n",
    "            if seq_feature.type==\"CDS\" :\n",
    "                output_handle.write(\">%s|%s\\n\" % (\n",
    "                    seq_feature.qualifiers['gene'][0],\n",
    "                    seq_feature.location,\n",
    "                    ))\n",
    "                pass\n",
    "        except:\n",
    "                continue\n",
    "output_handle.close()\n",
    "input_handle.close()"
   ]
  },
  {
   "cell_type": "raw",
   "metadata": {},
   "source": [
    "The first loop accesses the attributes within the SeqRecord object (such as other objects).\n",
    "\n",
    "The SeqIO.parse function turns the \"your_genome.gbk\" file into a SeqRecord object so we can access the information in this record. SeqRecord object holds a sequence (as a Seq object) and identifiers (ID and name), description and optionally annotation and sub-features. \n",
    "\n",
    "The second loop accesses the attributes in the \"features\" object.\n",
    "\n",
    "The \"features\" object is iterable and contains data for each annotation, such as gene name or location. However, if an annotation does not contain such information the iteration stops. The try, except and continue statement ensures iteration continues even if exceptions to the loop conditions are encountered.\n",
    "\n",
    "Running this code extracts the names of annotated genes and their locations within the genome sequence. These details are saved in the current working directory under a file named \"your_genome_in_ff.faa\" in FASTA format."
   ]
  },
  {
   "cell_type": "code",
   "execution_count": null,
   "metadata": {},
   "outputs": [],
   "source": [
    "records = SeqIO.parse(\"your_genome_in_ff.faa\", \"fasta\")\n",
    "descriptions = list([r.description for r in records])"
   ]
  },
  {
   "cell_type": "raw",
   "metadata": {},
   "source": [
    "The \"your_genome_in_ff.faa\" is returned as a SeqRecord object assigned to \"records\". FASTA files contain several key attributes. The description attribute contains the gene names and their locations. The description attribute is extracted and all the data stored in a list."
   ]
  },
  {
   "cell_type": "code",
   "execution_count": null,
   "metadata": {},
   "outputs": [],
   "source": [
    "gene_of_interest = ['esmR']\n",
    "match_in_list = [s for s in descriptions if any(xs in s for xs in gene_of_interest)]"
   ]
  },
  {
   "cell_type": "raw",
   "metadata": {},
   "source": [
    "Here you enter your gene of interest which is matched in the list. The match is extracted and stored as an object and assigned to the variable match_in_list."
   ]
  },
  {
   "cell_type": "code",
   "execution_count": null,
   "metadata": {},
   "outputs": [],
   "source": [
    "edit_list = ([s.replace('(+)', '') for s in match_in_list])\n",
    "final_list = ([s.replace('(-)', '') for s in edit_list])\n",
    "split_string = ([s.split(\"|\", 1) for s in final_list])  \n",
    "location = [i[1] for i in split_string] \n",
    "genes = [i[0] for i in split_string]"
   ]
  },
  {
   "cell_type": "raw",
   "metadata": {},
   "source": [
    "Characters are removed and the gene and its location split into two seperate strings."
   ]
  },
  {
   "cell_type": "code",
   "execution_count": null,
   "metadata": {},
   "outputs": [],
   "source": [
    "location_list = ([s.replace(']', '') for s in location])\n",
    "f_list = ([s.replace('[', '') for s in location_list])"
   ]
  },
  {
   "cell_type": "raw",
   "metadata": {},
   "source": [
    "Characters are further removed from the string containing the locations."
   ]
  },
  {
   "cell_type": "code",
   "execution_count": null,
   "metadata": {},
   "outputs": [],
   "source": [
    "Gene = f_list[0]\n",
    "x = Gene.split(\":\", 1)\n",
    "location_start = int(x[0])\n",
    "location_end = int(x[1])"
   ]
  },
  {
   "cell_type": "raw",
   "metadata": {},
   "source": [
    "The start and stop location of the gene is split into two strings and converted to integers."
   ]
  },
  {
   "cell_type": "code",
   "execution_count": null,
   "metadata": {},
   "outputs": [],
   "source": [
    "record = SeqIO.read(\"your_genome.gbk\", \"genbank\")\n",
    "sub_record = record[location_start:location_end]\n",
    "SeqIO.write(sub_record, \"your_gene.faa\", \"fasta\")"
   ]
  },
  {
   "cell_type": "raw",
   "metadata": {},
   "source": [
    "The SeqIO.read function returns \"your_genome.gbk\" file as a SeqRecord object, but uses a different set of rules than the SeqIO.parse function when converting data. The start and stop location of your gene of interest can now be used to extract the gene sequence, its identifiers (ID and name), description and sub-features. The gene sequence and its associated data are written to \"your_gene.faa\" which is stored in the current working directory."
   ]
  },
  {
   "cell_type": "code",
   "execution_count": null,
   "metadata": {},
   "outputs": [],
   "source": [
    "from Bio.Seq import Seq\n",
    "from pathlib import Path\n",
    "from Bio.SeqRecord import SeqRecord"
   ]
  },
  {
   "cell_type": "raw",
   "metadata": {},
   "source": [
    "The Path module allows Python to read data inside text files as a string. The module Seq is needed to convert a string to a Seq object. The SeqRecord module allows Seq object to be stored to a SeqRecord object."
   ]
  },
  {
   "cell_type": "code",
   "execution_count": null,
   "metadata": {},
   "outputs": [],
   "source": [
    "with open(\"OneDrive - Cardiff University/Desktop/MEP3Bassembly.fasta\") as infile, open(\"output.txt\", 'w') as outfile:\n",
    "    for line in infile:\n",
    "        if line.startswith(\">\"): continue\n",
    "        outfile.write(line.strip())\n",
    "\n",
    "string = Path('output.txt').read_text()"
   ]
  },
  {
   "cell_type": "raw",
   "metadata": {},
   "source": [
    "Opens your sequencing file of choice and concatenates every single contig and stores it as a text file. The text file is read and the sequence stored as a string."
   ]
  },
  {
   "cell_type": "code",
   "execution_count": null,
   "metadata": {},
   "outputs": [],
   "source": [
    "record = SeqRecord(\n",
    "    Seq(string),\n",
    ")\n",
    "\n",
    "SeqIO.write(record, \"search_genome.faa\", \"fasta\")"
   ]
  },
  {
   "cell_type": "raw",
   "metadata": {},
   "source": [
    "The string containing your sequence is converted to a Seq object and stored in the SeqRecord object. The SeqRecord object is written to the file \"search_genome.faa\" and stored in the current working directory."
   ]
  },
  {
   "cell_type": "code",
   "execution_count": null,
   "metadata": {},
   "outputs": [],
   "source": [
    "from Bio.Blast.Applications import NcbiblastnCommandline\n",
    "from Bio.Blast import NCBIXML"
   ]
  },
  {
   "cell_type": "raw",
   "metadata": {},
   "source": [
    "The module NcbiblastnCommandline is needed to access the BLAST server using Python and run a BLAST analysis. The module NCBIXML is needed to handle files in the XML data format."
   ]
  },
  {
   "cell_type": "code",
   "execution_count": null,
   "metadata": {},
   "outputs": [],
   "source": [
    "output = NcbiblastnCommandline(query=\"your_gene.faa\", subject=\"search_genome.faa\", outfmt=5, out=\"blast_result.xml\")()[0]"
   ]
  },
  {
   "cell_type": "raw",
   "metadata": {},
   "source": [
    "Your gene of interest is alligned with your concatenated sequencing data and the results stored in the current working directory as \"blast_result.xml\". "
   ]
  },
  {
   "cell_type": "code",
   "execution_count": null,
   "metadata": {},
   "outputs": [],
   "source": [
    "result = open(\"blast_result.xml\")\n",
    "blast_result_record = NCBIXML.read(result)\n"
   ]
  },
  {
   "cell_type": "raw",
   "metadata": {},
   "source": [
    "To view the results in the terminal the results file is read using the NCBIXML module."
   ]
  },
  {
   "cell_type": "code",
   "execution_count": null,
   "metadata": {},
   "outputs": [],
   "source": [
    "for alignment in blast_result_record.alignments:\n",
    "    for hsp in alignment.hsps:\n",
    "        print ('                    BLAST Alignment \\n',)\n",
    "        print (\"Query sequence details\", \"\\n\", \"\\n\", sub_record.features[1])\n",
    "        print (\"Alignment results \\n\")\n",
    "        print (\"Query length:\", hsp.align_length)\n",
    "        print ('e value:', hsp.expect)\n",
    "        print('identity', (hsp.identities/ hsp.align_length)*100, '%')\n",
    "        print('identities', hsp.identities, \"/\", hsp.align_length)\n",
    "        print (hsp.query)\n",
    "        print (hsp.match)\n",
    "        print (hsp.sbjct)"
   ]
  },
  {
   "cell_type": "raw",
   "metadata": {},
   "source": [
    "Annotation information from your gene of interest, contained within the \"your_gene.faa\" file, is printed to the terminal window including whether the sequence is the reverse complement (-) or complementary gene sequence (+). Some of the data contained within the XML file is also printed to the terminal window. More information on how to access all the different data classes in the XML file can be found here: http://biopython.org/DIST/docs/tutorial/Tutorial.html#fig%3Ablastrecord"
   ]
  },
  {
   "cell_type": "code",
   "execution_count": null,
   "metadata": {},
   "outputs": [],
   "source": [
    "print(\"Done, time to celebrate!\")"
   ]
  },
  {
   "cell_type": "raw",
   "metadata": {},
   "source": [
    "If you're code has run succesfully this message should display in the terminal window."
   ]
  }
 ],
 "metadata": {
  "kernelspec": {
   "display_name": "Python 3",
   "language": "python",
   "name": "python3"
  },
  "language_info": {
   "codemirror_mode": {
    "name": "ipython",
    "version": 3
   },
   "file_extension": ".py",
   "mimetype": "text/x-python",
   "name": "python",
   "nbconvert_exporter": "python",
   "pygments_lexer": "ipython3",
   "version": "3.8.5"
  }
 },
 "nbformat": 4,
 "nbformat_minor": 4
}
